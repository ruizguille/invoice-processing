{
 "cells": [
  {
   "cell_type": "code",
   "execution_count": 32,
   "metadata": {},
   "outputs": [],
   "source": [
    "import os\n",
    "import base64\n",
    "import json\n",
    "from io import BytesIO\n",
    "from pdf2image import convert_from_path\n",
    "from openai import AsyncOpenAI\n",
    "from tqdm.asyncio import tqdm_asyncio\n",
    "import pandas as pd\n",
    "from config import settings"
   ]
  },
  {
   "cell_type": "code",
   "execution_count": 21,
   "metadata": {},
   "outputs": [],
   "source": [
    "openai_client = AsyncOpenAI(api_key=settings.OPENAI_API_KEY)"
   ]
  },
  {
   "cell_type": "code",
   "execution_count": 22,
   "metadata": {},
   "outputs": [],
   "source": [
    "def pdf_to_base64_images(pdf_path):\n",
    "    imgs = convert_from_path(pdf_path, fmt='png')\n",
    "    base64_imgs = []\n",
    "    for image in imgs:\n",
    "        buffered = BytesIO()\n",
    "        image.save(buffered, format='PNG')\n",
    "        img_str = base64.b64encode(buffered.getvalue()).decode()\n",
    "        base64_imgs.append(img_str)\n",
    "    \n",
    "    return base64_imgs"
   ]
  },
  {
   "cell_type": "code",
   "execution_count": 23,
   "metadata": {},
   "outputs": [],
   "source": [
    "SYSTEM_PROMPT = \"\"\"You are an AI assistant specialized in extracting information from invoice images for the company \"TechNova Solutions, Inc.\". Your task is to analyze the given invoice image and extract the relevant information into a structured JSON format. If a field is not present in the invoice or cannot be determined leave it as \"null\".\n",
    "\n",
    "Extract the information into the following JSON format:\n",
    "```json\n",
    "{\n",
    "  \"invoice_number\": \"string\",\n",
    "  \"invoice_date\": \"YYYY-MM-DD\",\n",
    "  \"invoice_type\": \"incoming | outgoing\",\n",
    "  \"issuer\": {\n",
    "    \"name\": \"string\",\n",
    "    \"address\": \"string\",\n",
    "    \"phone\": \"string\",\n",
    "    \"email\": \"string\"\n",
    "  },\n",
    "  \"recipient\": {\n",
    "    \"name\": \"string\",\n",
    "    \"address\": \"string\",\n",
    "    \"phone\": \"string\",\n",
    "    \"email\": \"string\"\n",
    "  },\n",
    "  \"invoice_items\": [\n",
    "    {\n",
    "      \"description\": \"string\",\n",
    "      \"total\": \"number\"\n",
    "    }\n",
    "  ],\n",
    "  \"subtotal\": \"number\",\n",
    "  \"tax_rate\": \"number (percentage)\",\n",
    "  \"tax\": \"number\",\n",
    "  \"total\": \"number\",\n",
    "  \"terms\": \"string\"\n",
    "}\n",
    "```\n",
    "\n",
    "For the property \"invoice_type\" set the value \"incoming\" or \"outgoing\" from the point of view of the company \"TechNova Solutions, Inc.\". If this company does not appear as issuer or recipient, set it to \"null\".\n",
    "\"\"\""
   ]
  },
  {
   "cell_type": "code",
   "execution_count": 24,
   "metadata": {},
   "outputs": [],
   "source": [
    "async def extract_invoice_data(base64_img):\n",
    "    response = await openai_client.chat.completions.create(\n",
    "        model='gpt-4o',\n",
    "        response_format={ 'type': 'json_object' },\n",
    "        messages=[\n",
    "            {'role': 'system', 'content': SYSTEM_PROMPT},\n",
    "            {'role': 'user', 'content': [\n",
    "                {'type': 'image_url', 'image_url': {'url': f'data:image/png;base64,{base64_img}'}}\n",
    "            ]}\n",
    "        ],\n",
    "        temperature=0.1,\n",
    "    )\n",
    "    return response.choices[0].message.content"
   ]
  },
  {
   "cell_type": "code",
   "execution_count": 39,
   "metadata": {},
   "outputs": [
    {
     "name": "stdout",
     "output_type": "stream",
     "text": [
      "Processing the invoices:\n",
      "2024-001.pdf\n",
      "2024-002.pdf\n",
      "2024-003.pdf\n",
      "CS-9876.pdf\n",
      "CS-9897.pdf\n",
      "DT-45678.pdf\n",
      "OS-112233.pdf\n"
     ]
    },
    {
     "name": "stderr",
     "output_type": "stream",
     "text": [
      "100%|██████████| 7/7 [00:15<00:00,  2.24s/it]\n"
     ]
    }
   ],
   "source": [
    "INVOICES_DIR = 'data/invoices'\n",
    "\n",
    "tasks = []\n",
    "print('Processing the invoices:')\n",
    "for filename in sorted(os.listdir(INVOICES_DIR)):\n",
    "    if filename.endswith('.pdf'):\n",
    "        print(filename)\n",
    "        pdf_path = os.path.join(INVOICES_DIR, filename)\n",
    "        base64_images = pdf_to_base64_images(pdf_path)\n",
    "        task = extract_invoice_data(base64_images[0])\n",
    "        tasks.append(task)\n",
    "invoices_json = await tqdm_asyncio.gather(*tasks)\n",
    "invoices_data = [json.loads(invoices_json) for invoices_json in invoices_json]"
   ]
  },
  {
   "cell_type": "code",
   "execution_count": 42,
   "metadata": {},
   "outputs": [],
   "source": [
    "with open('data/invoices.json', 'w') as f:\n",
    "    json.dump(invoices_data, f)"
   ]
  },
  {
   "cell_type": "code",
   "execution_count": 43,
   "metadata": {},
   "outputs": [],
   "source": [
    "with open('data/invoices.json', 'r') as f:\n",
    "    invoices_data = json.load(f)"
   ]
  },
  {
   "cell_type": "code",
   "execution_count": null,
   "metadata": {},
   "outputs": [],
   "source": []
  }
 ],
 "metadata": {
  "kernelspec": {
   "display_name": ".venv",
   "language": "python",
   "name": "python3"
  },
  "language_info": {
   "codemirror_mode": {
    "name": "ipython",
    "version": 3
   },
   "file_extension": ".py",
   "mimetype": "text/x-python",
   "name": "python",
   "nbconvert_exporter": "python",
   "pygments_lexer": "ipython3",
   "version": "3.12.4"
  }
 },
 "nbformat": 4,
 "nbformat_minor": 2
}
