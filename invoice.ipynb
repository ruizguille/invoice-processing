{
 "cells": [
  {
   "cell_type": "code",
   "execution_count": 1,
   "metadata": {},
   "outputs": [],
   "source": [
    "import os\n",
    "import base64\n",
    "from io import BytesIO\n",
    "from pdf2image import convert_from_path\n",
    "from openai import AsyncOpenAI\n",
    "from config import settings"
   ]
  },
  {
   "cell_type": "code",
   "execution_count": 2,
   "metadata": {},
   "outputs": [],
   "source": [
    "openai_client = AsyncOpenAI(api_key=settings.OPENAI_API_KEY)"
   ]
  },
  {
   "cell_type": "code",
   "execution_count": 3,
   "metadata": {},
   "outputs": [],
   "source": [
    "def pdf_to_base64_images(pdf_path):\n",
    "    imgs = convert_from_path(pdf_path, fmt='png')\n",
    "    base64_imgs = []\n",
    "    for image in imgs:\n",
    "        buffered = BytesIO()\n",
    "        image.save(buffered, format='PNG')\n",
    "        img_str = base64.b64encode(buffered.getvalue()).decode()\n",
    "        base64_imgs.append(img_str)\n",
    "    \n",
    "    return base64_imgs"
   ]
  },
  {
   "cell_type": "code",
   "execution_count": 12,
   "metadata": {},
   "outputs": [],
   "source": [
    "SYSTEM_PROMPT = \"\"\"You are an AI assistant specialized in extracting information from invoice images for the company \"TechNova Solutions, Inc.\". Your task is to analyze the given invoice image and extract the relevant information into a structured JSON format. If a field is not present in the invoice or cannot be determined leave it as \"null\".\n",
    "\n",
    "Extract the information into the following JSON format:\n",
    "```json\n",
    "{\n",
    "  \"invoice_number\": \"string\",\n",
    "  \"invoice_date\": \"YYYY-MM-DD\",\n",
    "  \"invoice_type\": \"incoming | outgoing\",\n",
    "  \"issuer\": {\n",
    "    \"name\": \"string\",\n",
    "    \"address\": \"string\",\n",
    "    \"phone\": \"string\",\n",
    "    \"email\": \"string\"\n",
    "  },\n",
    "  \"recipient\": {\n",
    "    \"name\": \"string\",\n",
    "    \"address\": \"string\",\n",
    "    \"phone\": \"string\",\n",
    "    \"email\": \"string\"\n",
    "  },\n",
    "  \"invoice_items\": [\n",
    "    {\n",
    "      \"description\": \"string\",\n",
    "      \"total\": \"number\"\n",
    "    }\n",
    "  ],\n",
    "  \"subtotal\": \"number\",\n",
    "  \"tax_rate\": \"number (percentage)\",\n",
    "  \"tax\": \"number\",\n",
    "  \"total\": \"number\",\n",
    "  \"terms\": \"string\"\n",
    "}\n",
    "```\n",
    "\n",
    "For the property \"invoice_type\" set the value \"incoming\" or \"outgoing\" from the point of view of the company \"TechNova Solutions, Inc.\". If this company does not appear as issuer or recipient, set it to \"null\".\n",
    "\"\"\""
   ]
  },
  {
   "cell_type": "code",
   "execution_count": 11,
   "metadata": {},
   "outputs": [],
   "source": [
    "async def extract_invoice_data(base64_img):\n",
    "    response = await openai_client.chat.completions.create(\n",
    "        model='gpt-4o',\n",
    "        response_format={ 'type': 'json_object' },\n",
    "        messages=[\n",
    "            {'role': 'system', 'content': SYSTEM_PROMPT},\n",
    "            {'role': 'user', 'content': [\n",
    "                {'type': 'image_url', 'image_url': {'url': f'data:image/png;base64,{base64_img}'}}\n",
    "            ]}\n",
    "        ],\n",
    "        temperature=0.1,\n",
    "    )\n",
    "    print(f'Usage: {response.usage.total_tokens}')\n",
    "    return response.choices[0].message.content"
   ]
  },
  {
   "cell_type": "code",
   "execution_count": 6,
   "metadata": {},
   "outputs": [],
   "source": [
    "INVOICES_DIR = 'data/invoices'\n",
    "\n",
    "base64_invoices = []\n",
    "for filename in os.listdir(INVOICES_DIR):\n",
    "    if filename.endswith('.pdf'):\n",
    "        pdf_path = os.path.join(INVOICES_DIR, filename)\n",
    "        base64_images = pdf_to_base64_images(pdf_path)\n",
    "        base64_invoices.append(base64_images[0])"
   ]
  },
  {
   "cell_type": "code",
   "execution_count": 13,
   "metadata": {},
   "outputs": [
    {
     "name": "stdout",
     "output_type": "stream",
     "text": [
      "Usage: 1681\n",
      "{\n",
      "  \"invoice_number\": \"2024-001\",\n",
      "  \"invoice_date\": \"2024-01-15\",\n",
      "  \"invoice_type\": \"outgoing\",\n",
      "  \"issuer\": {\n",
      "    \"name\": \"TechNova Solutions, Inc.\",\n",
      "    \"address\": \"1250 Charleston Road, Mountain View, CA 94043, United States\",\n",
      "    \"phone\": \"+1 (650) 555-0123\",\n",
      "    \"email\": \"info@technovasolutions.com\"\n",
      "  },\n",
      "  \"recipient\": {\n",
      "    \"name\": \"Harmony Health Systems\",\n",
      "    \"address\": \"789 Wellness Ave, San Francisco, CA 94122, United States\",\n",
      "    \"phone\": \"+1 (415) 555-7890\",\n",
      "    \"email\": \"contact@harmonyhealthsystems.com\"\n",
      "  },\n",
      "  \"invoice_items\": [\n",
      "    {\n",
      "      \"description\": \"Custom EHR Integration Development\",\n",
      "      \"total\": 45000.00\n",
      "    },\n",
      "    {\n",
      "      \"description\": \"Project Management (80 hours)\",\n",
      "      \"total\": 12000.00\n",
      "    }\n",
      "  ],\n",
      "  \"subtotal\": 57000.00,\n",
      "  \"tax_rate\": 8.5,\n",
      "  \"tax\": 4845.00,\n",
      "  \"total\": 61845.00,\n",
      "  \"terms\": \"Payment is due within 30 days\"\n",
      "}\n"
     ]
    }
   ],
   "source": [
    "res = await extract_invoice_data(base64_invoices[0])\n",
    "print(res)"
   ]
  },
  {
   "cell_type": "code",
   "execution_count": null,
   "metadata": {},
   "outputs": [],
   "source": []
  }
 ],
 "metadata": {
  "kernelspec": {
   "display_name": ".venv",
   "language": "python",
   "name": "python3"
  },
  "language_info": {
   "codemirror_mode": {
    "name": "ipython",
    "version": 3
   },
   "file_extension": ".py",
   "mimetype": "text/x-python",
   "name": "python",
   "nbconvert_exporter": "python",
   "pygments_lexer": "ipython3",
   "version": "3.12.4"
  }
 },
 "nbformat": 4,
 "nbformat_minor": 2
}
